{
 "cells": [
  {
   "cell_type": "code",
   "execution_count": 2,
   "metadata": {
    "collapsed": false
   },
   "outputs": [],
   "source": [
    "import numpy as np\n",
    "from scipy.spatial import distance\n",
    "from gensim.models import KeyedVectors"
   ]
  },
  {
   "cell_type": "code",
   "execution_count": 3,
   "metadata": {
    "collapsed": true
   },
   "outputs": [],
   "source": [
    "HD_W2V_PATH = \"./word2vec/GoogleNews-vectors-negative300-hard-debiased.bin.gz\"\n",
    "W2V_PATH = \"./word2vec/GoogleNews-vectors-negative300.bin.gz\""
   ]
  },
  {
   "cell_type": "code",
   "execution_count": 5,
   "metadata": {
    "collapsed": false
   },
   "outputs": [],
   "source": [
    "model = KeyedVectors.load_word2vec_format(HD_W2V_PATH, binary=True)"
   ]
  },
  {
   "cell_type": "code",
   "execution_count": 6,
   "metadata": {
    "collapsed": true
   },
   "outputs": [],
   "source": [
    "model_ND = KeyedVectors.load_word2vec_format(W2V_PATH, binary=True)"
   ]
  },
  {
   "cell_type": "code",
   "execution_count": 14,
   "metadata": {
    "collapsed": true
   },
   "outputs": [],
   "source": [
    "def get_word_centroid_vec(model, doc):\n",
    "    \"\"\" Convert the document to a vector using the word centroid method \"\"\"\n",
    "    wcm = None\n",
    "    for wrd in doc:\n",
    "        try:\n",
    "            vec = model[wrd]\n",
    "        except:\n",
    "            continue\n",
    "\n",
    "        if wcm is None:\n",
    "            wcm = vec\n",
    "        wcm += vec\n",
    "\n",
    "    wcm /= float(len(doc))\n",
    "    return wcm"
   ]
  },
  {
   "cell_type": "code",
   "execution_count": 86,
   "metadata": {
    "collapsed": true
   },
   "outputs": [],
   "source": [
    "def cosine_filter_candidates(candidates, job):\n",
    "    \"\"\" Filter candidates using the cosine similarity \"\"\"\n",
    "\n",
    "    scores = []\n",
    "    for candidate in candidates:\n",
    "        scores.append(distance.cosine(candidate, job))\n",
    "\n",
    "    # Index list of best candidates sorted in descending order\n",
    "    ranks = sorted(range(len(scores)), key=lambda k: scores[k])\n",
    "\n",
    "    return ranks\n",
    "\n",
    "def euclidean_filter_candidates(candidates, job):\n",
    "    \"\"\" Filter candidates using the euclidean distance \"\"\"\n",
    "\n",
    "    scores = []\n",
    "    for candidate in candidates:\n",
    "        scores.append(distance.euclidean(candidate, job))\n",
    "\n",
    "    # Index list of best candidates sorted in descending order\n",
    "    ranks = sorted(range(len(scores)), key=lambda k: scores[k])\n",
    "\n",
    "    return ranks\n",
    "\n",
    "def jaccard_filter_candidates(candidates, job):\n",
    "    \"\"\" Filter candidates using the jacard distance \"\"\"\n",
    "\n",
    "    scores = []\n",
    "    for candidate in candidates:\n",
    "        scores.append(distance.jaccard(candidate, job))\n",
    "\n",
    "    # Index list of best candidates sorted in descending order\n",
    "    ranks = sorted(range(len(scores)), key=lambda k: scores[k])\n",
    "\n",
    "    return ranks\n",
    "\n",
    "def load_jobs(filename):\n",
    "    \"\"\" Load the jobs from the target file \"\"\"\n",
    "    # For now just return dummy list\n",
    "\n",
    "    jobs = [\n",
    "        [\"Computer\", \"science\", \"software\", \"data\", \"science\", \"engineering\", \"junior\", \"engineer\"],\n",
    "        [\"Computer\", \"hardware\", \"circuit\", \"data\", \"science\", \"engineering\", \"junior\", \"engineer\"],\n",
    "        [\"Computer\", \"hardware\", \"electrical\", \"data\", \"science\", \"engineering\", \"junior\", \"engineer\"]\n",
    "    ]\n",
    "\n",
    "    return jobs\n",
    "\n",
    "def load_candidates(filename):\n",
    "    \"\"\" Load the jobs from the target file \"\"\"\n",
    "    # For now just return dummy list\n",
    "\n",
    "    candidates = [\n",
    "        [\"woman\", \"computer science\"],\n",
    "        [\"man\", \"computer science\"],\n",
    "        [\"she\", \"computer science\"],\n",
    "        [\"he\", \"computer science\"],\n",
    "        [\"she\", \"woman\", \"computer science\"],\n",
    "    ]\n",
    "\n",
    "    candidate_genders = [\n",
    "        \"F\", \"M\", \"F\", \"M\", \"F\"\n",
    "    ]\n",
    "\n",
    "    return {\"candidates\": candidates, \"genders\": candidate_genders}\n"
   ]
  },
  {
   "cell_type": "code",
   "execution_count": 87,
   "metadata": {
    "collapsed": false
   },
   "outputs": [
    {
     "data": {
      "text/plain": [
       "(300,)"
      ]
     },
     "execution_count": 87,
     "metadata": {},
     "output_type": "execute_result"
    }
   ],
   "source": [
    "model['melinda'].shape"
   ]
  },
  {
   "cell_type": "code",
   "execution_count": 88,
   "metadata": {
    "collapsed": false
   },
   "outputs": [],
   "source": [
    "users = load_candidates(\"dummy.csv\")\n",
    "user_profiles, user_genders = users['candidates'], users['genders']\n",
    "job_profiles = load_jobs(\"dummy_j.csv\")"
   ]
  },
  {
   "cell_type": "code",
   "execution_count": 89,
   "metadata": {
    "collapsed": false
   },
   "outputs": [],
   "source": [
    "user_vectors = [get_word_centroid_vec(model, u) for u in user_profiles]"
   ]
  },
  {
   "cell_type": "code",
   "execution_count": 90,
   "metadata": {
    "collapsed": true
   },
   "outputs": [],
   "source": [
    "job_vectors = [get_word_centroid_vec(model, j) for j in job_profiles]"
   ]
  },
  {
   "cell_type": "code",
   "execution_count": 91,
   "metadata": {
    "collapsed": false
   },
   "outputs": [
    {
     "data": {
      "text/plain": [
       "[3, 2, 4, 0, 1]"
      ]
     },
     "execution_count": 91,
     "metadata": {},
     "output_type": "execute_result"
    }
   ],
   "source": [
    "cosine_filter_candidates(user_vectors, job_vectors[0])"
   ]
  },
  {
   "cell_type": "code",
   "execution_count": 92,
   "metadata": {
    "collapsed": false
   },
   "outputs": [
    {
     "data": {
      "text/plain": [
       "[0, 1, 2, 4, 3]"
      ]
     },
     "execution_count": 92,
     "metadata": {},
     "output_type": "execute_result"
    }
   ],
   "source": [
    "euclidean_filter_candidates(user_vectors, job_vectors[0])"
   ]
  },
  {
   "cell_type": "code",
   "execution_count": 93,
   "metadata": {
    "collapsed": false
   },
   "outputs": [],
   "source": [
    "user_vectors = [get_word_centroid_vec(model_ND, u) for u in user_profiles]"
   ]
  },
  {
   "cell_type": "code",
   "execution_count": 94,
   "metadata": {
    "collapsed": true
   },
   "outputs": [],
   "source": [
    "job_vectors = [get_word_centroid_vec(model_ND, j) for j in job_profiles]"
   ]
  },
  {
   "cell_type": "code",
   "execution_count": 95,
   "metadata": {
    "collapsed": false
   },
   "outputs": [
    {
     "data": {
      "text/plain": [
       "[3, 2, 4, 1, 0]"
      ]
     },
     "execution_count": 95,
     "metadata": {},
     "output_type": "execute_result"
    }
   ],
   "source": [
    "cosine_filter_candidates(user_vectors, job_vectors[0])"
   ]
  },
  {
   "cell_type": "code",
   "execution_count": 96,
   "metadata": {
    "collapsed": false
   },
   "outputs": [
    {
     "data": {
      "text/plain": [
       "[1, 0, 2, 4, 3]"
      ]
     },
     "execution_count": 96,
     "metadata": {},
     "output_type": "execute_result"
    }
   ],
   "source": [
    "euclidean_filter_candidates(user_vectors, job_vectors[0])"
   ]
  },
  {
   "cell_type": "code",
   "execution_count": null,
   "metadata": {
    "collapsed": true
   },
   "outputs": [],
   "source": []
  },
  {
   "cell_type": "code",
   "execution_count": null,
   "metadata": {
    "collapsed": true
   },
   "outputs": [],
   "source": []
  }
 ],
 "metadata": {
  "kernelspec": {
   "display_name": "Python [conda root]",
   "language": "python",
   "name": "conda-root-py"
  },
  "language_info": {
   "codemirror_mode": {
    "name": "ipython",
    "version": 3
   },
   "file_extension": ".py",
   "mimetype": "text/x-python",
   "name": "python",
   "nbconvert_exporter": "python",
   "pygments_lexer": "ipython3",
   "version": "3.5.3"
  }
 },
 "nbformat": 4,
 "nbformat_minor": 2
}
